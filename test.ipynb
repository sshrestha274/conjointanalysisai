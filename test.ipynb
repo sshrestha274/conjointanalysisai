{
 "cells": [
  {
   "cell_type": "code",
   "execution_count": 6,
   "metadata": {},
   "outputs": [],
   "source": [
    "import random"
   ]
  },
  {
   "cell_type": "code",
   "execution_count": 1,
   "metadata": {},
   "outputs": [],
   "source": [
    "attributes = {\n",
    "    \"decision\": [\"suggest_diagnosis\", \"provide_information\"],\n",
    "    \"severity\": [\"less_severe\", \"moderate_severe\", \"severe_only\"],\n",
    "    \"explanation\": [\"clearly_explained\", \"not_explained_well\"],\n",
    "    \"performance\": [\"accuracy_equal\", \"accuracy_comparable\", \"accuracy_better\"],\n",
    "    \"responsibility\": [\"hospital_responsible\", \"doctors_responsible\", \"ai_company_responsible\"],\n",
    "    \"discrimination\": [\"tested_for_discrimination\", \"not_tested_for_discrimination\"],\n",
    "    \"cost\": [\"lower_cost\", \"same_cost\", \"higher_cost\"]\n",
    "}"
   ]
  },
  {
   "cell_type": "code",
   "execution_count": 47,
   "metadata": {},
   "outputs": [],
   "source": [
    "def generate_choice():\n",
    "    hospital_a = {attribute: random.choice(attributes[attribute]) for attribute in attributes}\n",
    "    hospital_b = {attribute: random.choice(attributes[attribute]) for attribute in attributes}\n",
    "    return {\"hospital_a\": hospital_a, \"hospital_b\": hospital_b}"
   ]
  },
  {
   "cell_type": "code",
   "execution_count": 48,
   "metadata": {},
   "outputs": [],
   "source": [
    "data_set = generate_choice()"
   ]
  },
  {
   "cell_type": "code",
   "execution_count": 9,
   "metadata": {},
   "outputs": [
    {
     "data": {
      "text/plain": [
       "{'hospital_a': {'decision': 'provide_information',\n",
       "  'severity': 'severe_only',\n",
       "  'explanation': 'clearly_explained',\n",
       "  'performance': 'accuracy_comparable',\n",
       "  'responsibility': 'doctors_responsible',\n",
       "  'discrimination': 'tested_for_discrimination',\n",
       "  'cost': 'higher_cost'},\n",
       " 'hospital_b': {'decision': 'provide_information',\n",
       "  'severity': 'less_severe',\n",
       "  'explanation': 'not_explained_well',\n",
       "  'performance': 'accuracy_equal',\n",
       "  'responsibility': 'doctors_responsible',\n",
       "  'discrimination': 'not_tested_for_discrimination',\n",
       "  'cost': 'same_cost'}}"
      ]
     },
     "execution_count": 9,
     "metadata": {},
     "output_type": "execute_result"
    }
   ],
   "source": [
    "data"
   ]
  },
  {
   "cell_type": "code",
   "execution_count": 13,
   "metadata": {},
   "outputs": [],
   "source": [
    "# from flask import Flask, render_template, request, session, redirect, url_for, current_app\n",
    "# from flask_wtf import FlaskForm\n",
    "# from wtforms import IntegerField, SelectField, SubmitField\n",
    "# from wtforms.validators import DataRequired\n",
    "import random\n",
    "import sqlite3"
   ]
  },
  {
   "cell_type": "code",
   "execution_count": 69,
   "metadata": {},
   "outputs": [],
   "source": [
    "def create_database():\n",
    "    conn = sqlite3.connect('test_DATABASE2.db')\n",
    "    cursor = conn.cursor()\n",
    "\n",
    "    cursor.execute('''\n",
    "        CREATE TABLE IF NOT EXISTS participants (\n",
    "            id INTEGER PRIMARY KEY AUTOINCREMENT,\n",
    "            age INTEGER,\n",
    "            gender TEXT,\n",
    "            race_ethnicity TEXT\n",
    "        )\n",
    "    ''')\n",
    "\n",
    "    cursor.execute('''\n",
    "        CREATE TABLE IF NOT EXISTS choices (\n",
    "            participant_id INTEGER,\n",
    "            choice_id TEXT,\n",
    "            decision_a TEXT,\n",
    "            severity_a TEXT,\n",
    "            explanation_a TEXT,\n",
    "            performance_a TEXT,\n",
    "            responsibility_a TEXT,\n",
    "            discrimination_a TEXT,\n",
    "            cost_a TEXT,\n",
    "            decision_b TEXT,\n",
    "            severity_b TEXT,\n",
    "            explanation_b TEXT,\n",
    "            performance_b TEXT,\n",
    "            responsibility_b TEXT,\n",
    "            discrimination_b TEXT,\n",
    "            cost_b TEXT,\n",
    "            user_choice TEXT,\n",
    "            FOREIGN KEY (participant_id) REFERENCES participants(id)\n",
    "        )\n",
    "    ''')\n",
    "\n",
    "    conn.commit()\n",
    "    conn.close()"
   ]
  },
  {
   "cell_type": "code",
   "execution_count": 70,
   "metadata": {},
   "outputs": [],
   "source": [
    "create_database()"
   ]
  },
  {
   "cell_type": "code",
   "execution_count": 74,
   "metadata": {},
   "outputs": [],
   "source": [
    "def save_to_database(participant_id, choice_id, data, user_choice):\n",
    "    \n",
    "    conn = sqlite3.connect('test_DATABASE2.db')\n",
    "    cursor = conn.cursor()\n",
    "\n",
    "    cursor.execute('''\n",
    "            INSERT INTO choices (\n",
    "                participant_id, choice_id,\n",
    "                decision_a, severity_a, explanation_a, performance_a, responsibility_a, discrimination_a, cost_a,\n",
    "                decision_b, severity_b, explanation_b, performance_b, responsibility_b, discrimination_b, cost_b,\n",
    "                user_choice\n",
    "            ) VALUES (?, ?, ?, ?, ?, ?, ?, ?, ?, ?, ?, ?, ?, ?, ?, ?,?)\n",
    "        ''', (\n",
    "            participant_id,\n",
    "            choice_id,\n",
    "            data['hospital_a']['decision'],\n",
    "            data['hospital_a']['severity'],\n",
    "            data['hospital_a']['explanation'],\n",
    "            data['hospital_a']['performance'],\n",
    "            data['hospital_a']['responsibility'],\n",
    "            data['hospital_a']['discrimination'],\n",
    "            data['hospital_a']['cost'],\n",
    "            data['hospital_b']['decision'],\n",
    "            data['hospital_b']['severity'],\n",
    "            data['hospital_b']['explanation'],\n",
    "            data['hospital_b']['performance'],\n",
    "            data['hospital_b']['responsibility'],\n",
    "            data['hospital_b']['discrimination'],\n",
    "            data['hospital_b']['cost'],\n",
    "            user_choice\n",
    "        ))\n",
    "\n",
    "    conn.commit()\n",
    "    conn.close()"
   ]
  },
  {
   "cell_type": "code",
   "execution_count": 75,
   "metadata": {},
   "outputs": [],
   "source": [
    "save_to_database(\"uid1\", \"choice_1\", data_set, \"0\")"
   ]
  },
  {
   "cell_type": "code",
   "execution_count": 81,
   "metadata": {},
   "outputs": [],
   "source": [
    "def display_contents():\n",
    "    conn = sqlite3.connect('test_DATABASE2.db')\n",
    "    cursor = conn.cursor()\n",
    "\n",
    "    # Example query for the 'participants' table\n",
    "    cursor.execute('SELECT * FROM participants')\n",
    "    participants_data = cursor.fetchall()\n",
    "\n",
    "    print(\"Participants Table:\")\n",
    "    for row in participants_data:\n",
    "        print(row)\n",
    "\n",
    "    # Example query for the 'choices' table\n",
    "    cursor.execute('SELECT * FROM choices')\n",
    "    choices_data = cursor.fetchall()\n",
    "\n",
    "    print(\"\\nChoices Table:\")\n",
    "    for row in choices_data:\n",
    "        print(row)\n",
    "\n",
    "    conn.close()\n"
   ]
  },
  {
   "cell_type": "code",
   "execution_count": 82,
   "metadata": {},
   "outputs": [
    {
     "name": "stdout",
     "output_type": "stream",
     "text": [
      "Participants Table:\n",
      "\n",
      "Choices Table:\n",
      "('uid1', 'choice_1', 'suggest_diagnosis', 'severe_only', 'clearly_explained', 'accuracy_comparable', 'ai_company_responsible', 'not_tested_for_discrimination', 'lower_cost', 'suggest_diagnosis', 'moderate_severe', 'clearly_explained', 'accuracy_comparable', 'doctors_responsible', 'not_tested_for_discrimination', 'same_cost', '0')\n"
     ]
    }
   ],
   "source": [
    "display_contents()"
   ]
  },
  {
   "cell_type": "code",
   "execution_count": 87,
   "metadata": {},
   "outputs": [],
   "source": [
    "import sqlite3\n",
    "import pandas as pd\n",
    "\n",
    "def retrieve_data_as_dataframe():\n",
    "    conn = sqlite3.connect('conjoint_data.db')\n",
    "\n",
    "    # Example query for the 'participants' table\n",
    "    participants_query = 'SELECT * FROM participants'\n",
    "    participants_df = pd.read_sql_query(participants_query, conn)\n",
    "\n",
    "    print(\"Participants Table:\")\n",
    "    print(participants_df)\n",
    "\n",
    "    # Example query for the 'choices' table\n",
    "    choices_query = 'SELECT * FROM choices'\n",
    "    choices_df = pd.read_sql_query(choices_query, conn)\n",
    "\n",
    "    return choices_df\n",
    "    conn.close()\n",
    "\n",
    "# Call the function to retrieve data and save as Pandas DataFrame\n"
   ]
  },
  {
   "cell_type": "code",
   "execution_count": 88,
   "metadata": {},
   "outputs": [
    {
     "name": "stdout",
     "output_type": "stream",
     "text": [
      "Participants Table:\n",
      "   id  age gender      race_ethnicity\n",
      "0   1   33   male  non_hispanic_white\n",
      "1   2   33   male  non_hispanic_white\n",
      "2   3   33   male  non_hispanic_white\n",
      "3   4   33   male  non_hispanic_white\n",
      "4   5   33   male  non_hispanic_white\n",
      "5   6   33   male  non_hispanic_white\n",
      "6   7   33   male  non_hispanic_white\n"
     ]
    }
   ],
   "source": [
    "data = retrieve_data_as_dataframe()\n"
   ]
  },
  {
   "cell_type": "code",
   "execution_count": 89,
   "metadata": {},
   "outputs": [
    {
     "data": {
      "text/html": [
       "<div>\n",
       "<style scoped>\n",
       "    .dataframe tbody tr th:only-of-type {\n",
       "        vertical-align: middle;\n",
       "    }\n",
       "\n",
       "    .dataframe tbody tr th {\n",
       "        vertical-align: top;\n",
       "    }\n",
       "\n",
       "    .dataframe thead th {\n",
       "        text-align: right;\n",
       "    }\n",
       "</style>\n",
       "<table border=\"1\" class=\"dataframe\">\n",
       "  <thead>\n",
       "    <tr style=\"text-align: right;\">\n",
       "      <th></th>\n",
       "      <th>participant_id</th>\n",
       "      <th>choice_id</th>\n",
       "      <th>decision_a</th>\n",
       "      <th>severity_a</th>\n",
       "      <th>explanation_a</th>\n",
       "      <th>performance_a</th>\n",
       "      <th>responsibility_a</th>\n",
       "      <th>discrimination_a</th>\n",
       "      <th>cost_a</th>\n",
       "      <th>decision_b</th>\n",
       "      <th>severity_b</th>\n",
       "      <th>explanation_b</th>\n",
       "      <th>performance_b</th>\n",
       "      <th>responsibility_b</th>\n",
       "      <th>discrimination_b</th>\n",
       "      <th>cost_b</th>\n",
       "      <th>user_choice</th>\n",
       "    </tr>\n",
       "  </thead>\n",
       "  <tbody>\n",
       "    <tr>\n",
       "      <th>0</th>\n",
       "      <td>7</td>\n",
       "      <td>lWVWUM</td>\n",
       "      <td>provide_information</td>\n",
       "      <td>severe_only</td>\n",
       "      <td>not_explained_well</td>\n",
       "      <td>accuracy_better</td>\n",
       "      <td>hospital_responsible</td>\n",
       "      <td>tested_for_discrimination</td>\n",
       "      <td>same_cost</td>\n",
       "      <td>suggest_diagnosis</td>\n",
       "      <td>less_severe</td>\n",
       "      <td>clearly_explained</td>\n",
       "      <td>accuracy_equal</td>\n",
       "      <td>doctors_responsible</td>\n",
       "      <td>not_tested_for_discrimination</td>\n",
       "      <td>same_cost</td>\n",
       "      <td>hospital_a</td>\n",
       "    </tr>\n",
       "    <tr>\n",
       "      <th>1</th>\n",
       "      <td>7</td>\n",
       "      <td>3R58d7</td>\n",
       "      <td>suggest_diagnosis</td>\n",
       "      <td>severe_only</td>\n",
       "      <td>clearly_explained</td>\n",
       "      <td>accuracy_equal</td>\n",
       "      <td>doctors_responsible</td>\n",
       "      <td>not_tested_for_discrimination</td>\n",
       "      <td>higher_cost</td>\n",
       "      <td>suggest_diagnosis</td>\n",
       "      <td>severe_only</td>\n",
       "      <td>not_explained_well</td>\n",
       "      <td>accuracy_equal</td>\n",
       "      <td>doctors_responsible</td>\n",
       "      <td>not_tested_for_discrimination</td>\n",
       "      <td>higher_cost</td>\n",
       "      <td>hospital_b</td>\n",
       "    </tr>\n",
       "    <tr>\n",
       "      <th>2</th>\n",
       "      <td>7</td>\n",
       "      <td>XgJect</td>\n",
       "      <td>provide_information</td>\n",
       "      <td>severe_only</td>\n",
       "      <td>not_explained_well</td>\n",
       "      <td>accuracy_better</td>\n",
       "      <td>doctors_responsible</td>\n",
       "      <td>not_tested_for_discrimination</td>\n",
       "      <td>lower_cost</td>\n",
       "      <td>suggest_diagnosis</td>\n",
       "      <td>less_severe</td>\n",
       "      <td>not_explained_well</td>\n",
       "      <td>accuracy_better</td>\n",
       "      <td>ai_company_responsible</td>\n",
       "      <td>tested_for_discrimination</td>\n",
       "      <td>higher_cost</td>\n",
       "      <td>hospital_a</td>\n",
       "    </tr>\n",
       "    <tr>\n",
       "      <th>3</th>\n",
       "      <td>7</td>\n",
       "      <td>mFZRGi</td>\n",
       "      <td>suggest_diagnosis</td>\n",
       "      <td>severe_only</td>\n",
       "      <td>clearly_explained</td>\n",
       "      <td>accuracy_comparable</td>\n",
       "      <td>doctors_responsible</td>\n",
       "      <td>tested_for_discrimination</td>\n",
       "      <td>lower_cost</td>\n",
       "      <td>suggest_diagnosis</td>\n",
       "      <td>less_severe</td>\n",
       "      <td>clearly_explained</td>\n",
       "      <td>accuracy_comparable</td>\n",
       "      <td>hospital_responsible</td>\n",
       "      <td>not_tested_for_discrimination</td>\n",
       "      <td>higher_cost</td>\n",
       "      <td>hospital_b</td>\n",
       "    </tr>\n",
       "    <tr>\n",
       "      <th>4</th>\n",
       "      <td>7</td>\n",
       "      <td>IlW7De</td>\n",
       "      <td>provide_information</td>\n",
       "      <td>less_severe</td>\n",
       "      <td>clearly_explained</td>\n",
       "      <td>accuracy_better</td>\n",
       "      <td>ai_company_responsible</td>\n",
       "      <td>tested_for_discrimination</td>\n",
       "      <td>lower_cost</td>\n",
       "      <td>suggest_diagnosis</td>\n",
       "      <td>severe_only</td>\n",
       "      <td>clearly_explained</td>\n",
       "      <td>accuracy_comparable</td>\n",
       "      <td>doctors_responsible</td>\n",
       "      <td>not_tested_for_discrimination</td>\n",
       "      <td>lower_cost</td>\n",
       "      <td>hospital_a</td>\n",
       "    </tr>\n",
       "  </tbody>\n",
       "</table>\n",
       "</div>"
      ],
      "text/plain": [
       "   participant_id choice_id           decision_a   severity_a  \\\n",
       "0               7    lWVWUM  provide_information  severe_only   \n",
       "1               7    3R58d7    suggest_diagnosis  severe_only   \n",
       "2               7    XgJect  provide_information  severe_only   \n",
       "3               7    mFZRGi    suggest_diagnosis  severe_only   \n",
       "4               7    IlW7De  provide_information  less_severe   \n",
       "\n",
       "        explanation_a        performance_a        responsibility_a  \\\n",
       "0  not_explained_well      accuracy_better    hospital_responsible   \n",
       "1   clearly_explained       accuracy_equal     doctors_responsible   \n",
       "2  not_explained_well      accuracy_better     doctors_responsible   \n",
       "3   clearly_explained  accuracy_comparable     doctors_responsible   \n",
       "4   clearly_explained      accuracy_better  ai_company_responsible   \n",
       "\n",
       "                discrimination_a       cost_a         decision_b   severity_b  \\\n",
       "0      tested_for_discrimination    same_cost  suggest_diagnosis  less_severe   \n",
       "1  not_tested_for_discrimination  higher_cost  suggest_diagnosis  severe_only   \n",
       "2  not_tested_for_discrimination   lower_cost  suggest_diagnosis  less_severe   \n",
       "3      tested_for_discrimination   lower_cost  suggest_diagnosis  less_severe   \n",
       "4      tested_for_discrimination   lower_cost  suggest_diagnosis  severe_only   \n",
       "\n",
       "        explanation_b        performance_b        responsibility_b  \\\n",
       "0   clearly_explained       accuracy_equal     doctors_responsible   \n",
       "1  not_explained_well       accuracy_equal     doctors_responsible   \n",
       "2  not_explained_well      accuracy_better  ai_company_responsible   \n",
       "3   clearly_explained  accuracy_comparable    hospital_responsible   \n",
       "4   clearly_explained  accuracy_comparable     doctors_responsible   \n",
       "\n",
       "                discrimination_b       cost_b user_choice  \n",
       "0  not_tested_for_discrimination    same_cost  hospital_a  \n",
       "1  not_tested_for_discrimination  higher_cost  hospital_b  \n",
       "2      tested_for_discrimination  higher_cost  hospital_a  \n",
       "3  not_tested_for_discrimination  higher_cost  hospital_b  \n",
       "4  not_tested_for_discrimination   lower_cost  hospital_a  "
      ]
     },
     "execution_count": 89,
     "metadata": {},
     "output_type": "execute_result"
    }
   ],
   "source": [
    "data.head()"
   ]
  },
  {
   "cell_type": "code",
   "execution_count": 83,
   "metadata": {},
   "outputs": [],
   "source": [
    "import secrets\n",
    "import string\n",
    "\n",
    "def generate_random_string(length=6):\n",
    "    characters = string.ascii_letters + string.digits\n",
    "    random_string = ''.join(secrets.choice(characters) for _ in range(length))\n",
    "    return random_string"
   ]
  },
  {
   "cell_type": "code",
   "execution_count": 84,
   "metadata": {},
   "outputs": [],
   "source": [
    "x = generate_random_string()"
   ]
  },
  {
   "cell_type": "code",
   "execution_count": 86,
   "metadata": {},
   "outputs": [
    {
     "data": {
      "text/plain": [
       "str"
      ]
     },
     "execution_count": 86,
     "metadata": {},
     "output_type": "execute_result"
    }
   ],
   "source": [
    "type(x)"
   ]
  }
 ],
 "metadata": {
  "kernelspec": {
   "display_name": "Python 3",
   "language": "python",
   "name": "python3"
  },
  "language_info": {
   "codemirror_mode": {
    "name": "ipython",
    "version": 3
   },
   "file_extension": ".py",
   "mimetype": "text/x-python",
   "name": "python",
   "nbconvert_exporter": "python",
   "pygments_lexer": "ipython3",
   "version": "3.11.4"
  }
 },
 "nbformat": 4,
 "nbformat_minor": 2
}
